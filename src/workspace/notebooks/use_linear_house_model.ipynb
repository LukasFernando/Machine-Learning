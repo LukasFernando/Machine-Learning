{
 "cells": [
  {
   "cell_type": "code",
   "execution_count": null,
   "metadata": {},
   "outputs": [],
   "source": [
    "import joblib"
   ]
  },
  {
   "cell_type": "code",
   "execution_count": null,
   "metadata": {},
   "outputs": [],
   "source": [
    "input_data = {\n",
    "    1: {\n",
    "        'price': 13300000,\n",
    "        'input': [7420,4,2,3,1,0,0,0,1]\n",
    "    },\n",
    "    2: {\n",
    "        'price': 12250000,\n",
    "        'input': [8960,4,4,4,1,0,0,0,1]\n",
    "    },\n",
    "    3: {\n",
    "        'price': 12250000,\n",
    "        'input': [9960,3,2,2,1,0,1,0,0]\n",
    "    },\n",
    "    4: {\n",
    "        'price': 12215000,\n",
    "        'input': [7500,4,2,2,1,0,1,0,1]\n",
    "    }\n",
    "}"
   ]
  },
  {
   "cell_type": "code",
   "execution_count": null,
   "metadata": {},
   "outputs": [],
   "source": [
    "prediction_number = 4\n",
    "input = input_data.get(prediction_number)\n",
    "\n",
    "input['input']"
   ]
  },
  {
   "cell_type": "code",
   "execution_count": null,
   "metadata": {},
   "outputs": [],
   "source": [
    "loaded_model = joblib.load('house_price_linear_regression_model.pkl')\n",
    "\n",
    "prediction = loaded_model.predict([input['input']])\n",
    "\n",
    "print(f'Estimated price: {prediction[0]:.2f}')\n",
    "print(f'Real price: {input['price']:.2f}')"
   ]
  }
 ],
 "metadata": {
  "kernelspec": {
   "display_name": ".venv",
   "language": "python",
   "name": "python3"
  },
  "language_info": {
   "codemirror_mode": {
    "name": "ipython",
    "version": 3
   },
   "file_extension": ".py",
   "mimetype": "text/x-python",
   "name": "python",
   "nbconvert_exporter": "python",
   "pygments_lexer": "ipython3",
   "version": "3.12.4"
  }
 },
 "nbformat": 4,
 "nbformat_minor": 2
}
