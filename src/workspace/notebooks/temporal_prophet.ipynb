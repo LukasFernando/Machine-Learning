{
 "cells": [
  {
   "cell_type": "code",
   "execution_count": null,
   "metadata": {},
   "outputs": [],
   "source": [
    "import numpy as np\n",
    "import pandas as pd\n",
    "from prophet import Prophet\n",
    "from prophet.plot import plot_plotly, plot_components_plotly"
   ]
  },
  {
   "cell_type": "code",
   "execution_count": null,
   "metadata": {},
   "outputs": [],
   "source": [
    "dataset_path = '../../datasets/AEP_hourly.csv'"
   ]
  },
  {
   "cell_type": "code",
   "execution_count": null,
   "metadata": {},
   "outputs": [],
   "source": [
    "df = pd.read_csv(dataset_path, delimiter=',')\n",
    "df.head()"
   ]
  },
  {
   "cell_type": "code",
   "execution_count": null,
   "metadata": {},
   "outputs": [],
   "source": [
    "df.describe()"
   ]
  },
  {
   "cell_type": "code",
   "execution_count": null,
   "metadata": {},
   "outputs": [],
   "source": [
    "df.dtypes"
   ]
  },
  {
   "cell_type": "code",
   "execution_count": null,
   "metadata": {},
   "outputs": [],
   "source": [
    "steps = 36"
   ]
  },
  {
   "cell_type": "code",
   "execution_count": null,
   "metadata": {},
   "outputs": [],
   "source": [
    "# Prepare the data for Prophet\n",
    "df = df.rename(columns={'Datetime': 'ds', 'AEP_MW': 'y'})\n",
    "df['ds'] = pd.to_datetime(df['ds'], format='%Y-%m-%d %H:%M:%S')\n",
    "\n",
    "# Split the data into training and testing sets\n",
    "train_data = df[:-steps]\n",
    "test_data = df[-steps:]\n",
    "\n",
    "# Initialize and train the Prophet model\n",
    "model = Prophet()\n",
    "model.fit(train_data)\n",
    "\n",
    "# Create a future dataframe for predictions\n",
    "future = model.make_future_dataframe(periods=steps, freq='h')\n",
    "\n",
    "# Make predictions\n",
    "forecast = model.predict(future)\n",
    "\n",
    "# Compare predictions with actual values\n",
    "comparison = pd.DataFrame({'Date': test_data['ds'], 'Actual': test_data['y'], 'Predicted': forecast['yhat'][-steps:]})\n",
    "\n",
    "# Print the comparison dataframe\n",
    "print(comparison)\n",
    "\n",
    "# Plot the predictions\n",
    "fig1 = model.plot(forecast)\n",
    "fig2 = model.plot_components(forecast)\n"
   ]
  },
  {
   "cell_type": "code",
   "execution_count": null,
   "metadata": {},
   "outputs": [],
   "source": [
    "from sklearn.metrics import mean_absolute_error, root_mean_squared_error, mean_squared_error\n",
    "\n",
    "y_true = test_data['y'].values\n",
    "y_pred = forecast['yhat'][-steps:].values\n",
    "# Erro médio absoluto\n",
    "mae = mean_absolute_error(y_true, y_pred)\n",
    "print('MAE: %.3f' % mae)\n",
    "# Erro médio quadrado\n",
    "mse = mean_squared_error(y_true, y_pred)\n",
    "print('MSE: %.3f' % mse)\n",
    "# Raiz do erro médio quadrado\n",
    "rmse = root_mean_squared_error(y_true, y_pred)\n",
    "print('RMSE: %.3f' % rmse)"
   ]
  },
  {
   "cell_type": "code",
   "execution_count": null,
   "metadata": {},
   "outputs": [],
   "source": [
    "# Configuração do matplotlib\n",
    "import matplotlib.pyplot as plt\n",
    "plt.style.use('fivethirtyeight')\n",
    "plt.rcParams['lines.linewidth'] = 1.5\n",
    "%matplotlib inline\n",
    "plt.plot(y_true, label='Actual')\n",
    "plt.plot(y_pred, label='Predicted')\n",
    "plt.legend()\n",
    "plt.show()"
   ]
  },
  {
   "cell_type": "code",
   "execution_count": null,
   "metadata": {},
   "outputs": [],
   "source": [
    "# import joblib"
   ]
  },
  {
   "cell_type": "code",
   "execution_count": null,
   "metadata": {},
   "outputs": [],
   "source": [
    "# joblib.dump(model, 'house_price_linear_regression_model.pkl')"
   ]
  },
  {
   "cell_type": "code",
   "execution_count": null,
   "metadata": {},
   "outputs": [],
   "source": []
  }
 ],
 "metadata": {
  "kernelspec": {
   "display_name": ".venv",
   "language": "python",
   "name": "python3"
  },
  "language_info": {
   "codemirror_mode": {
    "name": "ipython",
    "version": 3
   },
   "file_extension": ".py",
   "mimetype": "text/x-python",
   "name": "python",
   "nbconvert_exporter": "python",
   "pygments_lexer": "ipython3",
   "version": "3.12.9"
  }
 },
 "nbformat": 4,
 "nbformat_minor": 2
}
