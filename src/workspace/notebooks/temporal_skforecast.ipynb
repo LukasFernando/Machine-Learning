{
  "cells": [
    {
      "cell_type": "code",
      "execution_count": null,
      "metadata": {},
      "outputs": [],
      "source": [
        "import pandas as pd"
      ]
    },
    {
      "cell_type": "code",
      "execution_count": null,
      "metadata": {},
      "outputs": [],
      "source": [
        "import matplotlib.pyplot as plt\n",
        "plt.style.use('fivethirtyeight')\n",
        "plt.rcParams['lines.linewidth'] = 1.5\n",
        "%matplotlib inline"
      ]
    },
    {
      "cell_type": "code",
      "execution_count": null,
      "metadata": {},
      "outputs": [],
      "source": [
        "from sklearn.ensemble import RandomForestRegressor\n",
        "from skforecast.recursive import ForecasterRecursive\n",
        "from skforecast.preprocessing import RollingFeatures"
      ]
    },
    {
      "cell_type": "code",
      "execution_count": null,
      "metadata": {
        "colab": {
          "base_uri": "https://localhost:8080/",
          "height": 206
        },
        "id": "SMnIHdjmiUtE",
        "outputId": "f46dfa3d-0dae-4656-986e-5721702c398d"
      },
      "outputs": [],
      "source": [
        "dataset_path = '../../datasets/AEP_hourly.csv'"
      ]
    },
    {
      "cell_type": "code",
      "execution_count": null,
      "metadata": {},
      "outputs": [],
      "source": [
        "df = pd.read_csv(dataset_path, delimiter=',')\n",
        "df.head()"
      ]
    },
    {
      "cell_type": "code",
      "execution_count": null,
      "metadata": {},
      "outputs": [],
      "source": [
        "df = df.rename(columns={'Datetime': 'date'})\n",
        "df = df.drop_duplicates(subset='date', keep='first')\n",
        "df.head()"
      ]
    },
    {
      "cell_type": "code",
      "execution_count": null,
      "metadata": {},
      "outputs": [],
      "source": [
        "df['date'] = pd.to_datetime(df['date'], format='%Y-%m-%d %H:%M:%S')\n",
        "df = df.set_index('date')\n",
        "df = df.asfreq('H', fill_value=0.0)\n",
        "df = df.sort_index()"
      ]
    },
    {
      "cell_type": "code",
      "execution_count": null,
      "metadata": {
        "colab": {
          "base_uri": "https://localhost:8080/",
          "height": 413
        },
        "id": "avUpOWqfk_X4",
        "outputId": "9696f47b-8140-4b78-e284-9d996f6ca017"
      },
      "outputs": [],
      "source": [
        "fig, ax = plt.subplots(figsize=(9, 4))\n",
        "df['AEP_MW'].plot(ax=ax, label='y')\n",
        "# df['exog_1'].plot(ax=ax, label='exogenous variable')\n",
        "ax.legend()"
      ]
    },
    {
      "cell_type": "code",
      "execution_count": null,
      "metadata": {
        "colab": {
          "base_uri": "https://localhost:8080/",
          "height": 448
        },
        "id": "PnXfBohGnfNS",
        "outputId": "8f445e7b-2f42-4b50-8154-8f32a603b68f"
      },
      "outputs": [],
      "source": [
        "steps = 36\n",
        "data_train = df[:-steps]\n",
        "data_test  = df[-steps:]\n",
        "\n",
        "print(f\"Train dates : {data_train.index.min()} --- {data_train.index.max()}  (n={len(data_train)})\")\n",
        "print(f\"Test dates  : {data_test.index.min()} --- {data_test.index.max()}  (n={len(data_test)})\")\n",
        "\n",
        "fig, ax=plt.subplots(figsize=(9, 4))\n",
        "data_train['AEP_MW'].plot(ax=ax, label='train')\n",
        "data_test['AEP_MW'].plot(ax=ax, label='test')\n",
        "ax.legend()"
      ]
    },
    {
      "cell_type": "code",
      "execution_count": null,
      "metadata": {
        "colab": {
          "base_uri": "https://localhost:8080/",
          "height": 582
        },
        "id": "AJ-tBxGolSPw",
        "outputId": "ddf9190b-75e0-4213-e978-288176760af7"
      },
      "outputs": [],
      "source": [
        "forecaster = ForecasterRecursive(\n",
        "                regressor = RandomForestRegressor(max_depth=10, n_estimators=50, random_state=123),\n",
        "                lags      = 12,\n",
        "                window_features = RollingFeatures(stats=['mean'], window_sizes=10)\n",
        "             )\n",
        "\n",
        "forecaster.fit(y=data_train['AEP_MW'])\n",
        "forecaster"
      ]
    },
    {
      "cell_type": "code",
      "execution_count": null,
      "metadata": {
        "colab": {
          "base_uri": "https://localhost:8080/",
          "height": 241
        },
        "id": "kgv_mYsxlZfR",
        "outputId": "e4efac23-9a11-4b1d-bf7b-10e3bf9c00d3"
      },
      "outputs": [],
      "source": [
        "steps = 36\n",
        "predictions = forecaster.predict(steps=steps)\n",
        "predictions.head(5)"
      ]
    },
    {
      "cell_type": "code",
      "execution_count": null,
      "metadata": {
        "colab": {
          "base_uri": "https://localhost:8080/",
          "height": 413
        },
        "id": "LparuYHBlcIz",
        "outputId": "eaeeaaa6-f673-4db6-c6f3-8cda10ca1d9b"
      },
      "outputs": [],
      "source": [
        "fig, ax=plt.subplots(figsize=(9, 4))\n",
        "data_train['AEP_MW'].plot(ax=ax, label='train')\n",
        "data_test['AEP_MW'].plot(ax=ax, label='test')\n",
        "predictions.plot(ax=ax, label='predictions', color='green')\n",
        "ax.legend()"
      ]
    },
    {
      "cell_type": "code",
      "execution_count": null,
      "metadata": {},
      "outputs": [],
      "source": [
        "# import joblib"
      ]
    },
    {
      "cell_type": "code",
      "execution_count": null,
      "metadata": {},
      "outputs": [],
      "source": [
        "# joblib.dump(model, 'house_price_linear_regression_model.pkl')"
      ]
    },
    {
      "cell_type": "code",
      "execution_count": null,
      "metadata": {},
      "outputs": [],
      "source": []
    }
  ],
  "metadata": {
    "colab": {
      "provenance": []
    },
    "kernelspec": {
      "display_name": ".venv",
      "language": "python",
      "name": "python3"
    },
    "language_info": {
      "codemirror_mode": {
        "name": "ipython",
        "version": 3
      },
      "file_extension": ".py",
      "mimetype": "text/x-python",
      "name": "python",
      "nbconvert_exporter": "python",
      "pygments_lexer": "ipython3",
      "version": "3.12.4"
    }
  },
  "nbformat": 4,
  "nbformat_minor": 0
}
