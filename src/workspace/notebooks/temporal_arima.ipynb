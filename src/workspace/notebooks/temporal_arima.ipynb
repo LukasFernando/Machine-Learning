{
  "cells": [
    {
      "cell_type": "code",
      "execution_count": null,
      "metadata": {},
      "outputs": [],
      "source": [
        "import pandas as pd"
      ]
    },
    {
      "cell_type": "code",
      "execution_count": null,
      "metadata": {
        "colab": {
          "base_uri": "https://localhost:8080/",
          "height": 206
        },
        "id": "SMnIHdjmiUtE",
        "outputId": "f46dfa3d-0dae-4656-986e-5721702c398d"
      },
      "outputs": [],
      "source": [
        "dataset_path = '../../datasets/AEP_hourly.csv'"
      ]
    },
    {
      "cell_type": "code",
      "execution_count": null,
      "metadata": {},
      "outputs": [],
      "source": [
        "df = pd.read_csv(dataset_path, delimiter=',')\n",
        "df.head()"
      ]
    },
    {
      "cell_type": "code",
      "execution_count": null,
      "metadata": {},
      "outputs": [],
      "source": [
        "import matplotlib.pyplot as plt\n",
        "\n",
        "plt.style.use('fivethirtyeight')\n",
        "plt.rcParams['lines.linewidth'] = 1.5\n",
        "%matplotlib inline\n",
        "\n",
        "fig, ax = plt.subplots(figsize=(9, 4))\n",
        "df['AEP_MW'].plot(ax=ax, label='AEP_MW')\n",
        "ax.legend()"
      ]
    },
    {
      "cell_type": "code",
      "execution_count": null,
      "metadata": {},
      "outputs": [],
      "source": [
        "steps = 10\n",
        "data_train = df[:-steps]\n",
        "data_test  = df[-steps:]"
      ]
    },
    {
      "cell_type": "code",
      "execution_count": null,
      "metadata": {},
      "outputs": [],
      "source": [
        "print(f\"Train dates : {data_train.index.min()} --- {data_train.index.max()}  (n={len(data_train)})\")\n",
        "print(f\"Test dates  : {data_test.index.min()} --- {data_test.index.max()}  (n={len(data_test)})\")"
      ]
    },
    {
      "cell_type": "code",
      "execution_count": null,
      "metadata": {},
      "outputs": [],
      "source": [
        "fig, ax=plt.subplots(figsize=(9, 4))\n",
        "data_train['AEP_MW'].plot(ax=ax, label='train')\n",
        "data_test['AEP_MW'].plot(ax=ax, label='test')\n",
        "ax.legend()"
      ]
    },
    {
      "cell_type": "code",
      "execution_count": null,
      "metadata": {},
      "outputs": [],
      "source": [
        "from pmdarima.arima import auto_arima\n",
        "\n",
        "model = auto_arima(data_train['AEP_MW'], trace=True, error_action='ignore', suppress_warnings=True)\n",
        "model.fit(data_train['AEP_MW'])\n",
        "forecast = model.predict(n_periods=len(data_test))\n",
        "forecast = pd.DataFrame(forecast,index = data_test.index,columns=['Prediction'])\n",
        "forecast"
      ]
    },
    {
      "cell_type": "code",
      "execution_count": null,
      "metadata": {},
      "outputs": [],
      "source": [
        "fig, ax=plt.subplots(figsize=(9, 4))\n",
        "data_train['AEP_MW'].plot(ax=ax, label='train')\n",
        "data_test['AEP_MW'].plot(ax=ax, label='test')\n",
        "forecast['Prediction'].plot(ax=ax, label='predictions', color='green')\n",
        "ax.legend()"
      ]
    },
    {
      "cell_type": "code",
      "execution_count": null,
      "metadata": {},
      "outputs": [],
      "source": [
        "# import joblib"
      ]
    },
    {
      "cell_type": "code",
      "execution_count": null,
      "metadata": {},
      "outputs": [],
      "source": [
        "# joblib.dump(model, 'house_price_linear_regression_model.pkl')"
      ]
    },
    {
      "cell_type": "code",
      "execution_count": null,
      "metadata": {},
      "outputs": [],
      "source": []
    }
  ],
  "metadata": {
    "colab": {
      "provenance": []
    },
    "kernelspec": {
      "display_name": ".venv",
      "language": "python",
      "name": "python3"
    },
    "language_info": {
      "codemirror_mode": {
        "name": "ipython",
        "version": 3
      },
      "file_extension": ".py",
      "mimetype": "text/x-python",
      "name": "python",
      "nbconvert_exporter": "python",
      "pygments_lexer": "ipython3",
      "version": "3.12.4"
    }
  },
  "nbformat": 4,
  "nbformat_minor": 0
}
