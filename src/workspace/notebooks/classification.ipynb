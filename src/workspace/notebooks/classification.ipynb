{
 "cells": [
  {
   "cell_type": "code",
   "execution_count": null,
   "metadata": {},
   "outputs": [],
   "source": [
    "import numpy as np\n",
    "import pandas as pd"
   ]
  },
  {
   "cell_type": "code",
   "execution_count": null,
   "metadata": {},
   "outputs": [],
   "source": [
    "dataset_path = '../../datasets/student_performance.csv'"
   ]
  },
  {
   "cell_type": "code",
   "execution_count": null,
   "metadata": {},
   "outputs": [],
   "source": [
    "df = pd.read_csv(dataset_path, delimiter=',')\n",
    "df.head()"
   ]
  },
  {
   "cell_type": "code",
   "execution_count": null,
   "metadata": {},
   "outputs": [],
   "source": [
    "def two_str_value_to_int(df:pd.DataFrame, columns:list):\n",
    "    for column in columns:\n",
    "        # unique_values = list(df[column].unique())\n",
    "        if 'yes' in list(df[column].unique()):\n",
    "            unique_values = ['no', 'yes']\n",
    "        # if len(unique_values) == 2:\n",
    "            df[column] = df[column].apply(lambda x: unique_values.index(str(x).lower()))\n",
    "    return df\n"
   ]
  },
  {
   "cell_type": "code",
   "execution_count": null,
   "metadata": {},
   "outputs": [],
   "source": [
    "str_columns = [\n",
    "    \"school\", \"sex\", \"address\", \"famsize\", \"Pstatus\", \"Mjob\", \"Fjob\", \n",
    "    \"reason\", \"guardian\", \"schoolsup\", \"famsup\", \"paid\", \"activities\", \n",
    "    \"nursery\", \"higher\", \"internet\", \"romantic\"\n",
    "]\n",
    "\n",
    "df = two_str_value_to_int(df, str_columns)\n",
    "df[str_columns].head()"
   ]
  },
  {
   "cell_type": "code",
   "execution_count": null,
   "metadata": {},
   "outputs": [],
   "source": [
    "for column in str_columns:\n",
    "    print(f'column = {column} || unique values = {list(df[column].unique())}')\n"
   ]
  },
  {
   "cell_type": "code",
   "execution_count": null,
   "metadata": {},
   "outputs": [],
   "source": [
    "df = pd.get_dummies(df)"
   ]
  },
  {
   "cell_type": "code",
   "execution_count": null,
   "metadata": {},
   "outputs": [],
   "source": [
    "before = len(df)\n",
    "df = df.drop_duplicates()\n",
    "after = len(df)\n",
    "\n",
    "print(f'Count before drop duplicates: {before}')\n",
    "print(f'Count after drop duplicates: {after}')"
   ]
  },
  {
   "cell_type": "markdown",
   "metadata": {},
   "source": [
    "| Nota (0 a 10) | Nota GPA (Escala de 4.0) | Nota Letra |\n",
    "|---------------------|--------------------------|------------|\n",
    "| 9.0 a 10.0          | 4.0                      | A          |\n",
    "| 8.0 a 8.9           | 3.0 - 3.9                | B          |\n",
    "| 7.0 a 7.9           | 2.0 - 2.9                | C          |\n",
    "| 6.0 a 6.9           | 1.0 - 1.9                | D          |\n",
    "| 0 a 5.9             | 0.0                      | F          |\n"
   ]
  },
  {
   "cell_type": "code",
   "execution_count": null,
   "metadata": {},
   "outputs": [],
   "source": [
    "df['G2'].unique()"
   ]
  },
  {
   "cell_type": "code",
   "execution_count": null,
   "metadata": {},
   "outputs": [],
   "source": [
    "df['GPA_result'] = df['G2'].apply(lambda x: 'PASS' if int(x)/5 >= 2 else 'FAIL')"
   ]
  },
  {
   "cell_type": "code",
   "execution_count": null,
   "metadata": {},
   "outputs": [],
   "source": [
    "# df = df.drop(columns=['G1', 'G2', 'G3'])"
   ]
  },
  {
   "cell_type": "code",
   "execution_count": null,
   "metadata": {},
   "outputs": [],
   "source": [
    "df.describe()"
   ]
  },
  {
   "cell_type": "code",
   "execution_count": null,
   "metadata": {},
   "outputs": [],
   "source": [
    "df.dtypes"
   ]
  },
  {
   "cell_type": "code",
   "execution_count": null,
   "metadata": {},
   "outputs": [],
   "source": [
    "columns = []\n",
    "for c in df.columns:\n",
    "    if c.startswith('Fjob'):\n",
    "        columns.append(c)\n",
    "\n",
    "df[columns].head()"
   ]
  },
  {
   "cell_type": "code",
   "execution_count": null,
   "metadata": {},
   "outputs": [],
   "source": [
    "from sklearn.metrics import accuracy_score, precision_score, recall_score, f1_score, confusion_matrix, ConfusionMatrixDisplay\n",
    "\n",
    "def logs(model, y_test, X_test):\n",
    "    # Predição\n",
    "    y_pred = model.predict(X_test)\n",
    "\n",
    "    # Matriz de confusão\n",
    "    print('Matriz de Confusão')\n",
    "    cm = confusion_matrix(y_test, y_pred)\n",
    "    disp = ConfusionMatrixDisplay(confusion_matrix=cm, display_labels=y_test.unique())\n",
    "    disp.plot()\n",
    "\n",
    "    # Acurácia\n",
    "    acc = accuracy_score(y_test, y_pred)\n",
    "    print(\"Acurácia: {:.2f}\".format(acc))\n",
    "\n",
    "    # Precisão média ponderada\n",
    "    prem = precision_score(y_true = y_test, y_pred = y_pred, average = \"weighted\")\n",
    "    print(\"Precisão média ponderada: {:.2f}\".format(prem))\n",
    "\n",
    "    # Recall médio ponderado\n",
    "    recm = recall_score(y_true = y_test, y_pred = y_pred, average = \"weighted\")\n",
    "    print(\"Recall médio ponderado: {:.2f}\".format(recm))\n",
    "\n",
    "    # F1 \n",
    "    f1 = f1_score(y_true = y_test, y_pred = y_pred, pos_label = 0)\n",
    "    print(\"F1 (FAIL): {:.2f}\".format(f1))\n",
    "    # F1 \n",
    "    f1 = f1_score(y_true = y_test, y_pred = y_pred, pos_label = 1)\n",
    "    print(\"F1 (PASS): {:.2f}\".format(f1))\n",
    "\n",
    "    # F1 médio ponderado\n",
    "    f1m = f1_score(y_true = y_test, y_pred = y_pred, average = \"weighted\")\n",
    "    print(\"F1 médio ponderado: {:.2f}\".format(f1m))\n",
    "\n"
   ]
  },
  {
   "cell_type": "code",
   "execution_count": null,
   "metadata": {},
   "outputs": [],
   "source": [
    "columns_to_X = [\n",
    "    'age', # student's age (numeric: from 15 to 22)\n",
    "    'Medu', # mother's education (numeric: 0 - none, 1 - primary education (4th grade), 2 – 5th to 9th grade, 3 – secondary education or 4 – higher education)\n",
    "    'Fedu', # father's education (numeric: 0 - none, 1 - primary education (4th grade), 2 – 5th to 9th grade, 3 – secondary education or 4 – higher education)\n",
    "    'traveltime', # home to school travel time (numeric: 1 - <15 min., 2 - 15 to 30 min., 3 - 30 min. to 1 hour, or 4 - >1 hour)\n",
    "    'studytime', # weekly study time (numeric: 1 - <2 hours, 2 - 2 to 5 hours, 3 - 5 to 10 hours, or 4 - >10 hours)\n",
    "    'failures', # number of past class failures (numeric: n if 1<=n<3, else 4)\n",
    "    'schoolsup', # extra educational support (binary: yes or no)\n",
    "    'famsup', # family educational support (binary: yes or no)\n",
    "    'paid', # extra paid classes within the course subject (Math or Portuguese) (binary: yes or no)\n",
    "    'activities', # extra-curricular activities (binary: yes or no)\n",
    "    'nursery', # attended nursery school (binary: yes or no)\n",
    "    'higher', # wants to take higher education (binary: yes or no)\n",
    "    'internet', # Internet access at home (binary: yes or no)\n",
    "    'romantic', # with a romantic relationship (binary: yes or no)\n",
    "    'famrel', # quality of family relationships (numeric: from 1 - very bad to 5 - excellent)\n",
    "    'freetime', # free time after school (numeric: from 1 - very low to 5 - very high)\n",
    "    'goout', # going out with friends (numeric: from 1 - very low to 5 - very high)\n",
    "    # 'Dalc', # workday alcohol consumption (numeric: from 1 - very low to 5 - very high)\n",
    "    # 'Walc', # weekend alcohol consumption (numeric: from 1 - very low to 5 - very high)\n",
    "    'health', # current health status (numeric: from 1 - very bad to 5 - very good)\n",
    "    'absences', # number of school absences (numeric: from 0 to 93)\n",
    "    # 'G1', # first period grade (numeric: from 0 to 20)\n",
    "    # 'G2', # second period grade (numeric: from 0 to 20)\n",
    "    # 'G3', # final grade (numeric: from 0 to 20, output target)\n",
    "    'school_GP', # student's school (binary: 'GP' - Gabriel Pereira or 'MS' - Mousinho da Silveira)\n",
    "    'school_MS', # student's school (binary: 'GP' - Gabriel Pereira or 'MS' - Mousinho da Silveira)\n",
    "    'sex_F', # student's sex (binary: 'F' - female or 'M' - male)\n",
    "    'sex_M', # student's sex (binary: 'F' - female or 'M' - male)\n",
    "    'address_R', # student\\'s home address type (binary: 'U' - urban or 'R' - rural)\n",
    "    'address_U', # student\\'s home address type (binary: 'U' - urban or 'R' - rural)\n",
    "    'famsize_GT3', # family size (binary: 'LE3' - less or equal to 3 or 'GT3' - greater than 3)\n",
    "    'famsize_LE3', # family size (binary: 'LE3' - less or equal to 3 or 'GT3' - greater than 3)\n",
    "    'Pstatus_A', # parent\\'s cohabitation status (binary: 'T' - living together or 'A' - apart)\n",
    "    'Pstatus_T', # parent\\'s cohabitation status (binary: 'T' - living together or 'A' - apart)\n",
    "    'Mjob_at_home', # mother\\'s job (nominal: 'teacher', 'health' care related, civil 'services' (e.g. administrative or police), 'at_home' or 'other')\n",
    "    'Mjob_health', # mother\\'s job (nominal: 'teacher', 'health' care related, civil 'services' (e.g. administrative or police), 'at_home' or 'other')\n",
    "    'Mjob_other', # mother\\'s job (nominal: 'teacher', 'health' care related, civil 'services' (e.g. administrative or police), 'at_home' or 'other')\n",
    "    'Mjob_services', # mother\\'s job (nominal: 'teacher', 'health' care related, civil 'services' (e.g. administrative or police), 'at_home' or 'other')\n",
    "    'Mjob_teacher', # mother\\'s job (nominal: 'teacher', 'health' care related, civil 'services' (e.g. administrative or police), 'at_home' or 'other')\n",
    "    'Fjob_at_home', # father\\'s job (nominal: 'teacher', 'health' care related, civil 'services' (e.g. administrative or police), 'at_home' or 'other')\n",
    "    'Fjob_health', # father\\'s job (nominal: 'teacher', 'health' care related, civil 'services' (e.g. administrative or police), 'at_home' or 'other')\n",
    "    'Fjob_other', # father\\'s job (nominal: 'teacher', 'health' care related, civil 'services' (e.g. administrative or police), 'at_home' or 'other')\n",
    "    'Fjob_services', # father\\'s job (nominal: 'teacher', 'health' care related, civil 'services' (e.g. administrative or police), 'at_home' or 'other')\n",
    "    'Fjob_teacher', # father\\'s job (nominal: 'teacher', 'health' care related, civil 'services' (e.g. administrative or police), 'at_home' or 'other')\n",
    "    'reason_course', # reason to choose this school (nominal: close to 'home', school 'reputation', 'course' preference or 'other')\n",
    "    'reason_home', # reason to choose this school (nominal: close to 'home', school 'reputation', 'course' preference or 'other')\n",
    "    'reason_other', # reason to choose this school (nominal: close to 'home', school 'reputation', 'course' preference or 'other')\n",
    "    'reason_reputation', # reason to choose this school (nominal: close to 'home', school 'reputation', 'course' preference or 'other')\n",
    "    'guardian_father', # student\\'s guardian (nominal: 'mother', 'father' or 'other')\n",
    "    'guardian_mother', # student\\'s guardian (nominal: 'mother', 'father' or 'other')\n",
    "    'guardian_other', # student\\'s guardian (nominal: 'mother', 'father' or 'other')\n",
    "]\n"
   ]
  },
  {
   "cell_type": "code",
   "execution_count": null,
   "metadata": {},
   "outputs": [],
   "source": [
    "X = df[columns_to_X]\n",
    "y = df['GPA_result'].map({'PASS':1, 'FAIL':0})\n",
    "# y = y.map({'PASS':1, 'FAIL':0})"
   ]
  },
  {
   "cell_type": "code",
   "execution_count": null,
   "metadata": {},
   "outputs": [],
   "source": [
    "from sklearn.model_selection import train_test_split\n",
    "\n",
    "X_train, X_test, y_train, y_test = train_test_split(X, y, test_size=0.2, random_state=1)"
   ]
  },
  {
   "cell_type": "code",
   "execution_count": null,
   "metadata": {},
   "outputs": [],
   "source": [
    "from sklearn.neural_network import MLPClassifier\n",
    "\n",
    "# Instancia um classificador tipo rede neural com, no máximo, 2000 épocas\n",
    "model = MLPClassifier(\n",
    "    hidden_layer_sizes=(200, 100, 50),\n",
    "    activation='relu',\n",
    "    solver='adam',\n",
    "    alpha=0.0001,\n",
    "    batch_size='auto',\n",
    "    learning_rate='constant',\n",
    "    learning_rate_init=0.001,\n",
    "    # power_t=0.5,\n",
    "    max_iter=5000,\n",
    "    shuffle=True,\n",
    "    random_state=1,\n",
    "    # tol=0.0001,\n",
    "    # verbose=False,\n",
    "    # warm_start=False,\n",
    "    # momentum=0.9,\n",
    "    # nesterovs_momentum=True,\n",
    "    # early_stopping=False,\n",
    "    # validation_fraction=0.1,\n",
    "    # beta_1=0.9,\n",
    "    # beta_2=0.999,\n",
    "    # epsilon=1e-8,\n",
    "    # n_iter_no_change=10,\n",
    "    max_fun=15000\n",
    ")\n",
    "\n",
    "model.fit(X_train, y_train)\n"
   ]
  },
  {
   "cell_type": "code",
   "execution_count": null,
   "metadata": {},
   "outputs": [],
   "source": [
    "logs(model=model, y_test=y_test, X_test=X_test)"
   ]
  },
  {
   "cell_type": "code",
   "execution_count": null,
   "metadata": {},
   "outputs": [],
   "source": [
    "from sklearn.neural_network import MLPClassifier\n",
    "\n",
    "# Instancia um classificador tipo rede neural com, no máximo, 2000 épocas\n",
    "model = MLPClassifier(\n",
    "    hidden_layer_sizes=(84, 42, 21),\n",
    "    activation='relu',\n",
    "    solver='adam',\n",
    "    alpha=0.0001,\n",
    "    batch_size='auto',\n",
    "    learning_rate='adaptive',\n",
    "    learning_rate_init=0.001,\n",
    "    # power_t=0.5,\n",
    "    max_iter=5000,\n",
    "    shuffle=True,\n",
    "    random_state=1,\n",
    "    # tol=0.0001,\n",
    "    # verbose=False,\n",
    "    # warm_start=False,\n",
    "    # momentum=0.9,\n",
    "    # nesterovs_momentum=True,\n",
    "    # early_stopping=False,\n",
    "    # validation_fraction=0.1,\n",
    "    # beta_1=0.9,\n",
    "    # beta_2=0.999,\n",
    "    # epsilon=1e-8,\n",
    "    # n_iter_no_change=10,\n",
    "    max_fun=10000\n",
    ")\n",
    "\n",
    "model.fit(X_train, y_train)\n"
   ]
  },
  {
   "cell_type": "code",
   "execution_count": null,
   "metadata": {},
   "outputs": [],
   "source": [
    "logs(model=model, y_test=y_test, X_test=X_test)"
   ]
  },
  {
   "cell_type": "code",
   "execution_count": null,
   "metadata": {},
   "outputs": [],
   "source": [
    "columns_to_X = [\n",
    "    'age', # student's age (numeric: from 15 to 22)\n",
    "    'Medu', # mother's education (numeric: 0 - none, 1 - primary education (4th grade), 2 – 5th to 9th grade, 3 – secondary education or 4 – higher education)\n",
    "    'Fedu', # father's education (numeric: 0 - none, 1 - primary education (4th grade), 2 – 5th to 9th grade, 3 – secondary education or 4 – higher education)\n",
    "    'traveltime', # home to school travel time (numeric: 1 - <15 min., 2 - 15 to 30 min., 3 - 30 min. to 1 hour, or 4 - >1 hour)\n",
    "    'studytime', # weekly study time (numeric: 1 - <2 hours, 2 - 2 to 5 hours, 3 - 5 to 10 hours, or 4 - >10 hours)\n",
    "    'failures', # number of past class failures (numeric: n if 1<=n<3, else 4)\n",
    "    'schoolsup', # extra educational support (binary: yes or no)\n",
    "    'famsup', # family educational support (binary: yes or no)\n",
    "    'paid', # extra paid classes within the course subject (Math or Portuguese) (binary: yes or no)\n",
    "    'activities', # extra-curricular activities (binary: yes or no)\n",
    "    'nursery', # attended nursery school (binary: yes or no)\n",
    "    'higher', # wants to take higher education (binary: yes or no)\n",
    "    'internet', # Internet access at home (binary: yes or no)\n",
    "    'romantic', # with a romantic relationship (binary: yes or no)\n",
    "    'famrel', # quality of family relationships (numeric: from 1 - very bad to 5 - excellent)\n",
    "    'freetime', # free time after school (numeric: from 1 - very low to 5 - very high)\n",
    "    'goout', # going out with friends (numeric: from 1 - very low to 5 - very high)\n",
    "    # 'Dalc', # workday alcohol consumption (numeric: from 1 - very low to 5 - very high)\n",
    "    # 'Walc', # weekend alcohol consumption (numeric: from 1 - very low to 5 - very high)\n",
    "    'health', # current health status (numeric: from 1 - very bad to 5 - very good)\n",
    "    'absences', # number of school absences (numeric: from 0 to 93)\n",
    "    # 'G1', # first period grade (numeric: from 0 to 20)\n",
    "    # 'G2', # second period grade (numeric: from 0 to 20)\n",
    "    # 'G3', # final grade (numeric: from 0 to 20, output target)\n",
    "    'school_GP', # student's school (binary: 'GP' - Gabriel Pereira or 'MS' - Mousinho da Silveira)\n",
    "    'school_MS', # student's school (binary: 'GP' - Gabriel Pereira or 'MS' - Mousinho da Silveira)\n",
    "    # 'sex_F', # student's sex (binary: 'F' - female or 'M' - male)\n",
    "    # 'sex_M', # student's sex (binary: 'F' - female or 'M' - male)\n",
    "    # 'address_R', # student\\'s home address type (binary: 'U' - urban or 'R' - rural)\n",
    "    # 'address_U', # student\\'s home address type (binary: 'U' - urban or 'R' - rural)\n",
    "    # 'famsize_GT3', # family size (binary: 'LE3' - less or equal to 3 or 'GT3' - greater than 3)\n",
    "    # 'famsize_LE3', # family size (binary: 'LE3' - less or equal to 3 or 'GT3' - greater than 3)\n",
    "    'Pstatus_A', # parent\\'s cohabitation status (binary: 'T' - living together or 'A' - apart)\n",
    "    'Pstatus_T', # parent\\'s cohabitation status (binary: 'T' - living together or 'A' - apart)\n",
    "    # 'Mjob_at_home', # mother\\'s job (nominal: 'teacher', 'health' care related, civil 'services' (e.g. administrative or police), 'at_home' or 'other')\n",
    "    # 'Mjob_health', # mother\\'s job (nominal: 'teacher', 'health' care related, civil 'services' (e.g. administrative or police), 'at_home' or 'other')\n",
    "    # 'Mjob_other', # mother\\'s job (nominal: 'teacher', 'health' care related, civil 'services' (e.g. administrative or police), 'at_home' or 'other')\n",
    "    # 'Mjob_services', # mother\\'s job (nominal: 'teacher', 'health' care related, civil 'services' (e.g. administrative or police), 'at_home' or 'other')\n",
    "    # 'Mjob_teacher', # mother\\'s job (nominal: 'teacher', 'health' care related, civil 'services' (e.g. administrative or police), 'at_home' or 'other')\n",
    "    # 'Fjob_at_home', # father\\'s job (nominal: 'teacher', 'health' care related, civil 'services' (e.g. administrative or police), 'at_home' or 'other')\n",
    "    # 'Fjob_health', # father\\'s job (nominal: 'teacher', 'health' care related, civil 'services' (e.g. administrative or police), 'at_home' or 'other')\n",
    "    # 'Fjob_other', # father\\'s job (nominal: 'teacher', 'health' care related, civil 'services' (e.g. administrative or police), 'at_home' or 'other')\n",
    "    # 'Fjob_services', # father\\'s job (nominal: 'teacher', 'health' care related, civil 'services' (e.g. administrative or police), 'at_home' or 'other')\n",
    "    # 'Fjob_teacher', # father\\'s job (nominal: 'teacher', 'health' care related, civil 'services' (e.g. administrative or police), 'at_home' or 'other')\n",
    "    'reason_course', # reason to choose this school (nominal: close to 'home', school 'reputation', 'course' preference or 'other')\n",
    "    'reason_home', # reason to choose this school (nominal: close to 'home', school 'reputation', 'course' preference or 'other')\n",
    "    'reason_other', # reason to choose this school (nominal: close to 'home', school 'reputation', 'course' preference or 'other')\n",
    "    'reason_reputation', # reason to choose this school (nominal: close to 'home', school 'reputation', 'course' preference or 'other')\n",
    "    # 'guardian_father', # student\\'s guardian (nominal: 'mother', 'father' or 'other')\n",
    "    # 'guardian_mother', # student\\'s guardian (nominal: 'mother', 'father' or 'other')\n",
    "    # 'guardian_other', # student\\'s guardian (nominal: 'mother', 'father' or 'other')\n",
    "]\n"
   ]
  },
  {
   "cell_type": "code",
   "execution_count": null,
   "metadata": {},
   "outputs": [],
   "source": [
    "X = df[columns_to_X]\n",
    "y = df['GPA_result'].map({'PASS':1, 'FAIL':0})\n",
    "# y = y.map({'PASS':1, 'FAIL':0})"
   ]
  },
  {
   "cell_type": "code",
   "execution_count": null,
   "metadata": {},
   "outputs": [],
   "source": [
    "from sklearn.model_selection import train_test_split\n",
    "\n",
    "X_train, X_test, y_train, y_test = train_test_split(X, y, test_size=0.2, random_state=1)"
   ]
  },
  {
   "cell_type": "code",
   "execution_count": null,
   "metadata": {},
   "outputs": [],
   "source": [
    "from sklearn.neural_network import MLPClassifier\n",
    "\n",
    "# Instancia um classificador tipo rede neural com, no máximo, 2000 épocas\n",
    "model = MLPClassifier(\n",
    "    hidden_layer_sizes=(64, 32, 16),\n",
    "    # activation='relu',\n",
    "    solver='adam',\n",
    "    alpha=0.0001,\n",
    "    batch_size='auto',\n",
    "    learning_rate='constant',\n",
    "    learning_rate_init=0.001,\n",
    "    # power_t=0.5,\n",
    "    max_iter=5000,\n",
    "    shuffle=True,\n",
    "    random_state=1,\n",
    "    # tol=0.0001,\n",
    "    # verbose=False,\n",
    "    # warm_start=False,\n",
    "    # momentum=0.9,\n",
    "    # nesterovs_momentum=True,\n",
    "    # early_stopping=False,\n",
    "    # validation_fraction=0.1,\n",
    "    # beta_1=0.9,\n",
    "    # beta_2=0.999,\n",
    "    # epsilon=1e-8,\n",
    "    # n_iter_no_change=10,\n",
    "    max_fun=15000\n",
    ")\n",
    "\n",
    "model.fit(X_train, y_train)\n"
   ]
  },
  {
   "cell_type": "code",
   "execution_count": null,
   "metadata": {},
   "outputs": [],
   "source": [
    "logs(model=model, y_test=y_test, X_test=X_test)"
   ]
  },
  {
   "cell_type": "code",
   "execution_count": null,
   "metadata": {},
   "outputs": [],
   "source": [
    "print(\"\"\"\n",
    "** Melhor versão do Modelo.\n",
    "\n",
    "Matriz de Confusão\n",
    "Acurácia: 0.82\n",
    "Precisão média ponderada: 0.80\n",
    "Recall médio ponderado: 0.82\n",
    "F1 (FAIL): 0.52\n",
    "F1 (PASS): 0.89\n",
    "F1 médio ponderado: 0.80\n",
    "\"\"\")"
   ]
  },
  {
   "cell_type": "code",
   "execution_count": null,
   "metadata": {},
   "outputs": [],
   "source": [
    "import seaborn as sns\n",
    "import matplotlib.pyplot as plt\n",
    "from matplotlib.ticker import FuncFormatter"
   ]
  },
  {
   "cell_type": "code",
   "execution_count": null,
   "metadata": {},
   "outputs": [],
   "source": [
    "# from sklearn.metrics import accuracy_score, precision_score, recall_score, f1_score, confusion_matrix, ConfusionMatrixDisplay\n",
    "\n",
    "# # Predição\n",
    "# y_pred = model.predict(X_test)\n",
    "\n",
    "# # Matriz de confusão\n",
    "# print('Matriz de Confusão')\n",
    "# cm = confusion_matrix(y_test, y_pred)\n",
    "# disp = ConfusionMatrixDisplay(confusion_matrix=cm, display_labels=y_test.unique())\n",
    "# disp.plot()\n",
    "\n",
    "# # Acurácia\n",
    "# acc = accuracy_score(y_test, y_pred)\n",
    "# print(\"Acurácia: {:.2f}\".format(acc))\n",
    "\n",
    "# # Precisão média ponderada\n",
    "# prem = precision_score(y_true = y_test, y_pred = y_pred, average = \"weighted\")\n",
    "# print(\"Precisão média ponderada: {:.2f}\".format(prem))\n",
    "\n",
    "# # Recall médio ponderado\n",
    "# recm = recall_score(y_true = y_test, y_pred = y_pred, average = \"weighted\")\n",
    "# print(\"Recall médio ponderado: {:.2f}\".format(recm))\n",
    "\n",
    "# # F1 \n",
    "# f1 = f1_score(y_true = y_test, y_pred = y_pred, pos_label = 0)\n",
    "# print(\"F1 (FAIL): {:.2f}\".format(f1))\n",
    "# # F1 \n",
    "# f1 = f1_score(y_true = y_test, y_pred = y_pred, pos_label = 1)\n",
    "# print(\"F1 (PASS): {:.2f}\".format(f1))\n",
    "\n",
    "# # F1 médio ponderado\n",
    "# f1m = f1_score(y_true = y_test, y_pred = y_pred, average = \"weighted\")\n",
    "# print(\"F1 médio ponderado: {:.2f}\".format(f1m))\n"
   ]
  },
  {
   "cell_type": "code",
   "execution_count": null,
   "metadata": {},
   "outputs": [],
   "source": []
  },
  {
   "cell_type": "code",
   "execution_count": null,
   "metadata": {},
   "outputs": [],
   "source": [
    "# import joblib"
   ]
  },
  {
   "cell_type": "code",
   "execution_count": null,
   "metadata": {},
   "outputs": [],
   "source": [
    "# joblib.dump(model, 'house_price_linear_regression_model.pkl')"
   ]
  },
  {
   "cell_type": "code",
   "execution_count": null,
   "metadata": {},
   "outputs": [],
   "source": []
  }
 ],
 "metadata": {
  "kernelspec": {
   "display_name": ".venv",
   "language": "python",
   "name": "python3"
  },
  "language_info": {
   "codemirror_mode": {
    "name": "ipython",
    "version": 3
   },
   "file_extension": ".py",
   "mimetype": "text/x-python",
   "name": "python",
   "nbconvert_exporter": "python",
   "pygments_lexer": "ipython3",
   "version": "3.12.9"
  }
 },
 "nbformat": 4,
 "nbformat_minor": 2
}
