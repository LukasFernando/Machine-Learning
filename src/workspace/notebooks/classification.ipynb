{
 "cells": [
  {
   "cell_type": "code",
   "execution_count": null,
   "metadata": {},
   "outputs": [],
   "source": [
    "import numpy as np\n",
    "import pandas as pd"
   ]
  },
  {
   "cell_type": "code",
   "execution_count": null,
   "metadata": {},
   "outputs": [],
   "source": [
    "dataset_path = '../../datasets/student_performance.csv'"
   ]
  },
  {
   "cell_type": "code",
   "execution_count": null,
   "metadata": {},
   "outputs": [],
   "source": [
    "df = pd.read_csv(dataset_path, delimiter=',')\n",
    "df.head()"
   ]
  },
  {
   "cell_type": "code",
   "execution_count": null,
   "metadata": {},
   "outputs": [],
   "source": [
    "def two_str_value_to_int(df:pd.DataFrame, columns:list):\n",
    "    for column in columns:\n",
    "        # unique_values = list(df[column].unique())\n",
    "        if 'yes' in list(df[column].unique()):\n",
    "            unique_values = ['no', 'yes']\n",
    "        # if len(unique_values) == 2:\n",
    "            df[column] = df[column].apply(lambda x: unique_values.index(str(x).lower()))\n",
    "    return df\n"
   ]
  },
  {
   "cell_type": "code",
   "execution_count": null,
   "metadata": {},
   "outputs": [],
   "source": [
    "str_columns = [\n",
    "    \"school\", \"sex\", \"address\", \"famsize\", \"Pstatus\", \"Mjob\", \"Fjob\", \n",
    "    \"reason\", \"guardian\", \"schoolsup\", \"famsup\", \"paid\", \"activities\", \n",
    "    \"nursery\", \"higher\", \"internet\", \"romantic\"\n",
    "]\n",
    "\n",
    "df = two_str_value_to_int(df, str_columns)\n",
    "df[str_columns].head()"
   ]
  },
  {
   "cell_type": "code",
   "execution_count": null,
   "metadata": {},
   "outputs": [],
   "source": [
    "for column in str_columns:\n",
    "    print(f'column = {column} || unique values = {list(df[column].unique())}')\n"
   ]
  },
  {
   "cell_type": "code",
   "execution_count": null,
   "metadata": {},
   "outputs": [],
   "source": [
    "df = pd.get_dummies(df)"
   ]
  },
  {
   "cell_type": "code",
   "execution_count": null,
   "metadata": {},
   "outputs": [],
   "source": [
    "before = len(df)\n",
    "df = df.drop_duplicates()\n",
    "after = len(df)\n",
    "\n",
    "print(f'Count before drop duplicates: {before}')\n",
    "print(f'Count after drop duplicates: {after}')"
   ]
  },
  {
   "cell_type": "markdown",
   "metadata": {},
   "source": [
    "| Nota (0 a 10) | Nota GPA (Escala de 4.0) | Nota Letra |\n",
    "|---------------------|--------------------------|------------|\n",
    "| 9.0 a 10.0          | 4.0                      | A          |\n",
    "| 8.0 a 8.9           | 3.0 - 3.9                | B          |\n",
    "| 7.0 a 7.9           | 2.0 - 2.9                | C          |\n",
    "| 6.0 a 6.9           | 1.0 - 1.9                | D          |\n",
    "| 0 a 5.9             | 0.0                      | F          |\n"
   ]
  },
  {
   "cell_type": "code",
   "execution_count": null,
   "metadata": {},
   "outputs": [],
   "source": [
    "df['G2'].unique()"
   ]
  },
  {
   "cell_type": "code",
   "execution_count": null,
   "metadata": {},
   "outputs": [],
   "source": [
    "df['GPA_result'] = df['G2'].apply(lambda x: 'PASS' if int(x)/5 >= 2 else 'FAIL')"
   ]
  },
  {
   "cell_type": "code",
   "execution_count": null,
   "metadata": {},
   "outputs": [],
   "source": [
    "# df = df.drop(columns=['G1', 'G2', 'G3'])"
   ]
  },
  {
   "cell_type": "code",
   "execution_count": null,
   "metadata": {},
   "outputs": [],
   "source": [
    "df.describe()"
   ]
  },
  {
   "cell_type": "code",
   "execution_count": null,
   "metadata": {},
   "outputs": [],
   "source": [
    "df.dtypes"
   ]
  },
  {
   "cell_type": "code",
   "execution_count": null,
   "metadata": {},
   "outputs": [],
   "source": [
    "columns = []\n",
    "for c in df.columns:\n",
    "    if c.startswith('Fjob'):\n",
    "        columns.append(c)\n",
    "\n",
    "df[columns].head()"
   ]
  },
  {
   "cell_type": "code",
   "execution_count": null,
   "metadata": {},
   "outputs": [],
   "source": [
    "columns_to_X = [\n",
    "    'age',\n",
    "    'sex_F',\n",
    "    'sex_M',\n",
    "    'paid',\n",
    "    'health',\n",
    "    'goout',\n",
    "    'studytime',\n",
    "    'freetime',\n",
    "    'activities',\n",
    "    'internet',\n",
    "    'romantic',\n",
    "    'famrel',\n",
    "    'absences',\n",
    "    'failures',\n",
    "# ----------------------------\n",
    "    # 'guardian_father',\n",
    "    # 'guardian_mother',\n",
    "    # 'guardian_other',\n",
    "    # 'school_GP',\n",
    "    # 'school_MS',\n",
    "    'schoolsup',\n",
    "    # 'reason_course',\n",
    "    # 'reason_home',\n",
    "    # 'reason_other',\n",
    "    # 'reason_reputation',\n",
    "]\n",
    "\n"
   ]
  },
  {
   "cell_type": "code",
   "execution_count": null,
   "metadata": {},
   "outputs": [],
   "source": [
    "# columns_to_X = df.columns.to_list()\n",
    "# columns_to_X.remove('GPA_result')"
   ]
  },
  {
   "cell_type": "code",
   "execution_count": null,
   "metadata": {},
   "outputs": [],
   "source": [
    "X = df[columns_to_X]\n",
    "y = df['GPA_result'].map({'PASS':1, 'FAIL':0})\n",
    "# y = y.map({'PASS':1, 'FAIL':0})"
   ]
  },
  {
   "cell_type": "code",
   "execution_count": null,
   "metadata": {},
   "outputs": [],
   "source": [
    "from sklearn.model_selection import train_test_split\n",
    "\n",
    "X_train, X_test, y_train, y_test = train_test_split(X, y, test_size=0.2, random_state=1)"
   ]
  },
  {
   "cell_type": "code",
   "execution_count": null,
   "metadata": {},
   "outputs": [],
   "source": [
    "from sklearn.neural_network import MLPClassifier\n",
    "\n",
    "# Instancia um classificador tipo rede neural com, no máximo, 2000 épocas\n",
    "model = MLPClassifier(\n",
    "    random_state=1, \n",
    "    max_iter=5000,\n",
    "    hidden_layer_sizes=(150, 80, 50),\n",
    "    solver='lbfgs',\n",
    "    learning_rate='adaptive',\n",
    "    shuffle=True\n",
    "    )\n",
    "\n",
    "model.fit(X_train, y_train)"
   ]
  },
  {
   "cell_type": "code",
   "execution_count": null,
   "metadata": {},
   "outputs": [],
   "source": [
    "import seaborn as sns\n",
    "import matplotlib.pyplot as plt\n",
    "from matplotlib.ticker import FuncFormatter"
   ]
  },
  {
   "cell_type": "code",
   "execution_count": null,
   "metadata": {},
   "outputs": [],
   "source": [
    "from sklearn.metrics import accuracy_score, precision_score, recall_score, f1_score, confusion_matrix, ConfusionMatrixDisplay\n",
    "\n",
    "# Predição\n",
    "y_pred = model.predict(X_test)\n",
    "\n",
    "# Matriz de confusão\n",
    "print('Matriz de Confusão')\n",
    "cm = confusion_matrix(y_test, y_pred)\n",
    "disp = ConfusionMatrixDisplay(confusion_matrix=cm, display_labels=y_test.unique())\n",
    "disp.plot()\n",
    "\n",
    "# Acurácia\n",
    "acc = accuracy_score(y_test, y_pred)\n",
    "print(\"Acurácia: {:.2f}\".format(acc))\n",
    "\n",
    "# Precisão média ponderada\n",
    "prem = precision_score(y_true = y_test, y_pred = y_pred, average = \"weighted\")\n",
    "print(\"Precisão média ponderada: {:.2f}\".format(prem))\n",
    "\n",
    "# Recall médio ponderado\n",
    "recm = recall_score(y_true = y_test, y_pred = y_pred, average = \"weighted\")\n",
    "print(\"Recall médio ponderado: {:.2f}\".format(recm))\n",
    "\n",
    "# F1 \n",
    "f1 = f1_score(y_true = y_test, y_pred = y_pred, pos_label = 0)\n",
    "print(\"F1 (FAIL): {:.2f}\".format(f1))\n",
    "# F1 \n",
    "f1 = f1_score(y_true = y_test, y_pred = y_pred, pos_label = 1)\n",
    "print(\"F1 (PASS): {:.2f}\".format(f1))\n",
    "\n",
    "# F1 médio ponderado\n",
    "f1m = f1_score(y_true = y_test, y_pred = y_pred, average = \"weighted\")\n",
    "print(\"F1 médio ponderado: {:.2f}\".format(f1m))\n"
   ]
  },
  {
   "cell_type": "markdown",
   "metadata": {},
   "source": [
    "##### Melhor resultado\n",
    "F1 médio ponderado: 0.78\n",
    "Label | value | value |\n",
    "|--|--|--|\n",
    "0 | 12 | 17\n",
    "1 | 11 | 90\n"
   ]
  },
  {
   "cell_type": "code",
   "execution_count": null,
   "metadata": {},
   "outputs": [],
   "source": []
  },
  {
   "cell_type": "code",
   "execution_count": null,
   "metadata": {},
   "outputs": [],
   "source": [
    "# import joblib"
   ]
  },
  {
   "cell_type": "code",
   "execution_count": null,
   "metadata": {},
   "outputs": [],
   "source": [
    "# joblib.dump(model, 'house_price_linear_regression_model.pkl')\n"
   ]
  },
  {
   "cell_type": "code",
   "execution_count": null,
   "metadata": {},
   "outputs": [],
   "source": []
  }
 ],
 "metadata": {
  "kernelspec": {
   "display_name": ".venv",
   "language": "python",
   "name": "python3"
  },
  "language_info": {
   "codemirror_mode": {
    "name": "ipython",
    "version": 3
   },
   "file_extension": ".py",
   "mimetype": "text/x-python",
   "name": "python",
   "nbconvert_exporter": "python",
   "pygments_lexer": "ipython3",
   "version": "3.12.9"
  }
 },
 "nbformat": 4,
 "nbformat_minor": 2
}
